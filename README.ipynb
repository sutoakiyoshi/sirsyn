{
 "cells": [
  {
   "cell_type": "code",
   "execution_count": 30,
   "metadata": {},
   "outputs": [],
   "source": [
    "import numpy as np\n",
    "import matplotlib.pyplot as plt\n",
    "from sklearn.datasets import make_classification\n",
    "from sklearn.model_selection import train_test_split\n",
    "from sklearn.tree import DecisionTreeClassifier\n",
    "from sklearn.metrics import accuracy_score, confusion_matrix, classification_report\n",
    "from SIRSYNBoosting import SirSynXGB\n",
    "from imblearn.over_sampling import SMOTE\n",
    "import xgboost as xgb\n",
    "# make sample dataset\n",
    "X, y = make_classification(\n",
    "    n_samples=1000, n_features=20, n_informative=2, n_redundant=10, \n",
    "    random_state=42,\n",
    "    weights=[0.95, 0.05]\n",
    "    )\n",
    "\n",
    "#\n",
    "X_train, X_test, y_train, y_test = train_test_split(X, y, test_size=0.3, random_state=42, stratify=y)\n",
    "dtrain = xgb.DMatrix(X_train, label=y_train)\n",
    "dtest = xgb.DMatrix(X_test, label=y_test)\n"
   ]
  },
  {
   "cell_type": "code",
   "execution_count": 33,
   "metadata": {},
   "outputs": [],
   "source": [
    "def proposed_sample(X, y, random_state=0):\n",
    "    \"\"\"\n",
    "    Within this function, have the data generated using the synthetic data \n",
    "    generation algorithm you wish to adapt, and separate the y=1 samples \n",
    "    from the y=0 samples and return them in the return value.\n",
    "    \"\"\"\n",
    "    sm = SMOTE(random_state=random_state)\n",
    "    X_sm, y_sm = sm.fit_resample(X, y)\n",
    "    z1 = X_sm[y_sm > 0.5, :]\n",
    "    z0 = X_sm[y_sm < 0.5, :] \n",
    "    return z1, z0\n",
    "\n",
    "\n",
    "# xbboost's params\n",
    "params = {\n",
    "    'objective': 'binary:logistic',\n",
    "    'max_depth': 5,\n",
    "    'eta': 0.1,\n",
    "    'reg_lambda':1,\n",
    "    'verbosity': 0,\n",
    "    'seed': 324,\n",
    "    'eval_metric': 'aucpr'\n",
    "}"
   ]
  },
  {
   "cell_type": "code",
   "execution_count": 34,
   "metadata": {},
   "outputs": [
    {
     "data": {
      "text/plain": [
       "array([[282,   2],\n",
       "       [  4,  12]])"
      ]
     },
     "execution_count": 34,
     "metadata": {},
     "output_type": "execute_result"
    }
   ],
   "source": [
    "model = SirSynXGB(n_estimator=100,\n",
    "                  proposed_sampler=proposed_sample\n",
    "                  )\n",
    "model.fit(dtrain=dtrain,dtest=dtest, ealry_stoping=10,params=params)\n",
    "\n",
    "prob_y1 = model.predict(dtest=dtest)\n",
    "y_pred = np.round(prob_y1)\n",
    "confusion_matrix(y_pred=y_pred, y_true=y_test)"
   ]
  },
  {
   "cell_type": "code",
   "execution_count": 24,
   "metadata": {},
   "outputs": [],
   "source": []
  },
  {
   "cell_type": "code",
   "execution_count": null,
   "metadata": {},
   "outputs": [],
   "source": []
  }
 ],
 "metadata": {
  "kernelspec": {
   "display_name": "Python 3",
   "language": "python",
   "name": "python3"
  },
  "language_info": {
   "codemirror_mode": {
    "name": "ipython",
    "version": 3
   },
   "file_extension": ".py",
   "mimetype": "text/x-python",
   "name": "python",
   "nbconvert_exporter": "python",
   "pygments_lexer": "ipython3",
   "version": "3.11.7"
  }
 },
 "nbformat": 4,
 "nbformat_minor": 2
}
